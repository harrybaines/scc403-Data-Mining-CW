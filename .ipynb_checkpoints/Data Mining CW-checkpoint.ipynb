{
 "cells": [
  {
   "cell_type": "code",
   "execution_count": 4,
   "metadata": {},
   "outputs": [],
   "source": [
    "import numpy as np"
   ]
  },
  {
   "cell_type": "code",
   "execution_count": 5,
   "metadata": {},
   "outputs": [],
   "source": [
    "def open_csv(filename):\n",
    "    raw_data = []\n",
    "    with open(filename, \"r\") as file:\n",
    "        while True:\n",
    "            theline = file.readline()\n",
    "            if len(theline) == 0:\n",
    "                break\n",
    "            read_data = theline.split(\",\")\n",
    "            for pos in range(len(read_data)):\n",
    "                read_data[pos] = float(read_data[pos]);\n",
    "            raw_data.append(read_data)\n",
    "        data = np.array(raw_data)\n",
    "    return data"
   ]
  },
  {
   "cell_type": "code",
   "execution_count": 6,
   "metadata": {},
   "outputs": [],
   "source": [
    "filename = 'HTRU2/HTRU_2.csv'\n",
    "data_file = open_csv(filename)"
   ]
  },
  {
   "cell_type": "code",
   "execution_count": 7,
   "metadata": {},
   "outputs": [
    {
     "name": "stdout",
     "output_type": "stream",
     "text": [
      "[140.5625      55.68378214  -0.23457141  -0.6996484    3.19983278\n",
      "  19.11042633   7.97553179  74.24222492   0.        ]\n"
     ]
    }
   ],
   "source": [
    "print(data_file[0])"
   ]
  },
  {
   "cell_type": "code",
   "execution_count": null,
   "metadata": {},
   "outputs": [],
   "source": []
  }
 ],
 "metadata": {
  "kernelspec": {
   "display_name": "Python 3",
   "language": "python",
   "name": "python3"
  },
  "language_info": {
   "codemirror_mode": {
    "name": "ipython",
    "version": 3
   },
   "file_extension": ".py",
   "mimetype": "text/x-python",
   "name": "python",
   "nbconvert_exporter": "python",
   "pygments_lexer": "ipython3",
   "version": "3.7.4"
  }
 },
 "nbformat": 4,
 "nbformat_minor": 2
}
