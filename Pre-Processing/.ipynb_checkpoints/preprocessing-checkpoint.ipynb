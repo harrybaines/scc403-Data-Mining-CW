{
 "cells": [
  {
   "cell_type": "code",
   "execution_count": 1,
   "metadata": {},
   "outputs": [],
   "source": [
    "import numpy as np"
   ]
  },
  {
   "cell_type": "code",
   "execution_count": 138,
   "metadata": {},
   "outputs": [],
   "source": [
    "def normalize(x):\n",
    "    \"\"\" Normalizes a numpy array to the range 0-1.\n",
    "\n",
    "    Parameters:\n",
    "        x (numpy.ndarray): The data to normalize.\n",
    "\n",
    "    Returns:\n",
    "        numpy.ndarray: The normalized numpy array.   \n",
    "\n",
    "    \"\"\"\n",
    "    return (x - x.min(axis=0)) / x.ptp(axis=0)"
   ]
  },
  {
   "cell_type": "code",
   "execution_count": 139,
   "metadata": {},
   "outputs": [],
   "source": [
    "def standardize(x):\n",
    "    \"\"\" Standardizes a numpy array using the mean and standard deviation of each feature.\n",
    "\n",
    "    Parameters:\n",
    "        x (numpy.ndarray): The data to standardize.\n",
    "\n",
    "    Returns:\n",
    "        numpy.ndarray: The standardized numpy array.   \n",
    "\n",
    "    \"\"\"\n",
    "    return (x - x.mean(axis=0)) / x.std(axis=0)"
   ]
  },
  {
   "cell_type": "code",
   "execution_count": 4,
   "metadata": {},
   "outputs": [],
   "source": [
    "# Dataset\n",
    "data = np.array([[10,95,-34,4,56], [1,2,3,4,5], [-99,7,8,9,10]])"
   ]
  },
  {
   "cell_type": "code",
   "execution_count": 125,
   "metadata": {},
   "outputs": [
    {
     "name": "stdout",
     "output_type": "stream",
     "text": [
      "[[1.         1.         0.         0.         1.        ]\n",
      " [0.91743119 0.         0.88095238 0.         0.        ]\n",
      " [0.         0.05376344 1.         1.         0.09803922]]\n"
     ]
    }
   ],
   "source": [
    "# Normalize columns of numpy array\n",
    "normalized = normalize(data)\n",
    "print(normalized)"
   ]
  },
  {
   "cell_type": "code",
   "execution_count": 126,
   "metadata": {},
   "outputs": [
    {
     "name": "stdout",
     "output_type": "stream",
     "text": [
      "[[ 0.7962438   1.41259755 -1.40579187 -0.70710678  1.40861062]\n",
      " [ 0.61405242 -0.76483182  0.56943468 -0.70710678 -0.8132185 ]\n",
      " [-1.41029622 -0.64776573  0.83635719  1.41421356 -0.59539212]]\n"
     ]
    }
   ],
   "source": [
    "# Standardize columns of numpy array\n",
    "standardized = standardize(data)\n",
    "print(standardized)"
   ]
  },
  {
   "cell_type": "code",
   "execution_count": 127,
   "metadata": {},
   "outputs": [],
   "source": [
    "import csv\n",
    "\n",
    "def open_csv(filename):\n",
    "    \"\"\" Opens a .csv file with the provided filename.\n",
    "\n",
    "    Parameters:\n",
    "        filename (str): The name of the file to open.\n",
    "\n",
    "    Returns:\n",
    "        numpy.ndarray: A numpy representation of the data in csv file.   \n",
    "\n",
    "    \"\"\"\n",
    "    with open(filename, 'r') as f:\n",
    "        data = list(csv.reader(f, delimiter=\",\"))\n",
    "    data = np.array(data)\n",
    "    \n",
    "    print(\"-\" * 30)\n",
    "    print(f\"{data.size} row(s) loaded successfully\")\n",
    "    \n",
    "    num_missing = get_num_missing_values(data, missing_char='?')\n",
    "    print(f\"{num_missing} missing values found\")\n",
    "    print(\"-\" * 30)\n",
    "    \n",
    "    return data"
   ]
  },
  {
   "cell_type": "code",
   "execution_count": 128,
   "metadata": {},
   "outputs": [],
   "source": [
    "# Mushroom data - '?' for missing value\n",
    "def get_num_missing_values(data, missing_char=' '):\n",
    "    bools = data[np.isin(data, missing_char)]\n",
    "    return len(bools)"
   ]
  },
  {
   "cell_type": "code",
   "execution_count": 129,
   "metadata": {},
   "outputs": [],
   "source": [
    "# Returns total occurences (from all rows) of a search value in a certain column\n",
    "def get_row_count(data, col, val):\n",
    "    return len(data[data[:,col] == val])"
   ]
  },
  {
   "cell_type": "code",
   "execution_count": 130,
   "metadata": {},
   "outputs": [],
   "source": [
    "# Prints n number of rows in data (numpy array)\n",
    "def head(data, n=3):\n",
    "    print(data[:n])"
   ]
  },
  {
   "cell_type": "code",
   "execution_count": 131,
   "metadata": {},
   "outputs": [
    {
     "name": "stdout",
     "output_type": "stream",
     "text": [
      "------------------------------\n",
      "186852 row(s) loaded successfully\n",
      "2480 missing values found\n",
      "------------------------------\n",
      "4208 edible mushrooms\n",
      "3916 poisonous mushrooms\n",
      "[['p' 'x' 's' 'n' 't' 'p' 'f' 'c' 'n' 'k' 'e' 'e' 's' 's' 'w' 'w' 'p' 'w'\n",
      "  'o' 'p' 'k' 's' 'u']\n",
      " ['e' 'x' 's' 'y' 't' 'a' 'f' 'c' 'b' 'k' 'e' 'c' 's' 's' 'w' 'w' 'p' 'w'\n",
      "  'o' 'p' 'n' 'n' 'g']\n",
      " ['e' 'b' 's' 'w' 't' 'l' 'f' 'c' 'b' 'n' 'e' 'c' 's' 's' 'w' 'w' 'p' 'w'\n",
      "  'o' 'p' 'n' 'n' 'm']]\n"
     ]
    }
   ],
   "source": [
    "data_filepath = './Mushroom/agaricus-lepiota.data'\n",
    "data = open_csv(data_filepath)\n",
    "\n",
    "# Get total number of edible mushrooms\n",
    "num_edible = get_row_count(data, 0, 'e')\n",
    "print(f\"{num_edible} edible mushrooms\")\n",
    "\n",
    "# Get total number of poisonous mushrooms\n",
    "num_poisonous = get_row_count(data, 0, 'p')\n",
    "print(f\"{num_poisonous} poisonous mushrooms\")\n",
    "\n",
    "head(data)"
   ]
  },
  {
   "cell_type": "code",
   "execution_count": 13,
   "metadata": {},
   "outputs": [],
   "source": [
    "import matplotlib.pyplot as plt"
   ]
  },
  {
   "cell_type": "code",
   "execution_count": 133,
   "metadata": {},
   "outputs": [
    {
     "data": {
      "image/png": "[encoded data removed]",
      "text/plain": [
       "<Figure size 432x288 with 1 Axes>"
      ]
     },
     "metadata": {
      "needs_background": "light"
     },
     "output_type": "display_data"
    }
   ],
   "source": [
    "plt.bar(['edible', 'poisonous'], [num_edible, num_poisonous], color=['green', 'red'])\n",
    "plt.title('Total no. of edible/poisonous mushrooms')\n",
    "plt.show()"
   ]
  },
  {
   "cell_type": "code",
   "execution_count": 15,
   "metadata": {},
   "outputs": [],
   "source": [
    "# Column names\n",
    "columns = [\n",
    "    'class',\n",
    "    'cap-shape',\n",
    "    'cap-surface',\n",
    "    'cap-color',\n",
    "    'bruises?',\n",
    "    'odor',\n",
    "    'gill-attachment',\n",
    "    'gill-spacing',\n",
    "    'gill-size',\n",
    "    'gill-color',\n",
    "    'stalk-shape',\n",
    "    'stalk-root',\n",
    "    'stalk-surface-above-ring',\n",
    "    'stalk-surface-below-ring',\n",
    "    'stalk-color-above-ring',\n",
    "    'stalk-color-below-ring',\n",
    "    'veil-type',\n",
    "    'veil-color',\n",
    "    'ring-number',\n",
    "    'ring-type',\n",
    "    'spore-print-color',\n",
    "    'population',\n",
    "    'habitat',\n",
    "]"
   ]
  },
  {
   "cell_type": "code",
   "execution_count": 107,
   "metadata": {},
   "outputs": [],
   "source": [
    "# 'Pretty print' a numpy array as a table with column names (from-to column exclusive range)\n",
    "def pretty_print(data, columns, nrows=10, from_col=0, to_col=-1, show_key=False):\n",
    "    sub_cols = None\n",
    "    if show_key:\n",
    "        sub_cols = [str(x) for x in range(from_col, to_col)]\n",
    "    else:\n",
    "        sub_cols = columns[from_col:to_col]\n",
    "\n",
    "    data = np.vstack([sub_cols, data[0:nrows, from_col:to_col]])\n",
    "    s = [[str(e) for e in row] for row in data] \n",
    "    \n",
    "    lens = [max(map(len, col)) for col in zip(*s)]\n",
    "    \n",
    "    fmt = ''.join('|  {{:{}}}  '.format(x) for x in lens)\n",
    "    seps = [\"-\" * num for num in lens]\n",
    "    s.insert(1, seps)\n",
    "    \n",
    "    table = [fmt.format(*row) + '|' for row in s]\n",
    "    \n",
    "    print(f\"{nrows} row(s):\\n\")\n",
    "    print('\\n'.join(table) + '\\n')\n",
    "    \n",
    "    # Print column keys\n",
    "    if show_key:\n",
    "        for i, col in enumerate(sub_cols):\n",
    "            print_col = columns[int(col)]\n",
    "            print(f\"Col {i}: {print_col}\")"
   ]
  },
  {
   "cell_type": "code",
   "execution_count": 111,
   "metadata": {},
   "outputs": [
    {
     "name": "stdout",
     "output_type": "stream",
     "text": [
      "8 row(s):\n",
      "\n",
      "|  0  |  1  |  2  |  3  |\n",
      "|  -  |  -  |  -  |  -  |\n",
      "|  p  |  x  |  s  |  n  |\n",
      "|  e  |  x  |  s  |  y  |\n",
      "|  e  |  b  |  s  |  w  |\n",
      "|  p  |  x  |  y  |  w  |\n",
      "|  e  |  x  |  s  |  g  |\n",
      "|  e  |  x  |  y  |  y  |\n",
      "|  e  |  b  |  s  |  w  |\n",
      "|  e  |  b  |  y  |  w  |\n",
      "\n",
      "Col 0: class\n",
      "Col 1: cap-shape\n",
      "Col 2: cap-surface\n",
      "Col 3: cap-color\n"
     ]
    }
   ],
   "source": [
    "pretty_print(\n",
    "    data, \n",
    "    columns, \n",
    "    nrows=8, \n",
    "    from_col=0, \n",
    "    to_col=4,\n",
    "    show_key=True\n",
    ")"
   ]
  },
  {
   "cell_type": "code",
   "execution_count": 110,
   "metadata": {},
   "outputs": [],
   "source": [
    "## Load Pulsar dataset"
   ]
  },
  {
   "cell_type": "code",
   "execution_count": 19,
   "metadata": {},
   "outputs": [
    {
     "name": "stdout",
     "output_type": "stream",
     "text": [
      "------------------------------\n",
      "161082 row(s) loaded successfully\n",
      "0 missing values found\n",
      "------------------------------\n"
     ]
    }
   ],
   "source": [
    "pulsar_dataset = open_csv('HTRU2/HTRU_2.csv')"
   ]
  },
  {
   "cell_type": "code",
   "execution_count": 20,
   "metadata": {},
   "outputs": [],
   "source": [
    "pulsar_columns = [\n",
    "    'Mean of the integrated profile',\n",
    "    'Standard deviation of the integrated profile',\n",
    "    'Excess kurtosis of the integrated profile',\n",
    "    'Skewness of the integrated profile',\n",
    "    'Mean of the DM-SNR curve',\n",
    "    'Standard deviation of the DM-SNR curve',\n",
    "    'Excess kurtosis of the DM-SNR curve',\n",
    "    'Skewness of the DM-SNR curve',\n",
    "    'Class'\n",
    "]"
   ]
  },
  {
   "cell_type": "code",
   "execution_count": 115,
   "metadata": {},
   "outputs": [
    {
     "name": "stdout",
     "output_type": "stream",
     "text": [
      "10 row(s):\n",
      "\n",
      "|  Mean of the integrated profile  |  Standard deviation of the integrated profile  |\n",
      "|  ------------------------------  |  --------------------------------------------  |\n",
      "|  140.5625                        |  55.68378214                                   |\n",
      "|  102.5078125                     |  58.88243001                                   |\n",
      "|  103.015625                      |  39.34164944                                   |\n",
      "|  136.75                          |  57.17844874                                   |\n",
      "|  88.7265625                      |  40.67222541                                   |\n",
      "|  93.5703125                      |  46.69811352                                   |\n",
      "|  119.484375                      |  48.76505927                                   |\n",
      "|  130.3828125                     |  39.84405561                                   |\n",
      "|  107.25                          |  52.62707834                                   |\n",
      "|  107.2578125                     |  39.49648839                                   |\n",
      "\n"
     ]
    }
   ],
   "source": [
    "pretty_print(\n",
    "    pulsar_dataset,\n",
    "    pulsar_columns,\n",
    "    nrows=10,\n",
    "    from_col=0,\n",
    "    to_col=2,\n",
    "    show_key=False\n",
    ")"
   ]
  },
  {
   "cell_type": "code",
   "execution_count": 22,
   "metadata": {},
   "outputs": [],
   "source": [
    "# Convert values in pulsar dataset to floats\n",
    "pulsar_dataset = pulsar_dataset.astype(float)"
   ]
  },
  {
   "cell_type": "code",
   "execution_count": 117,
   "metadata": {},
   "outputs": [
    {
     "name": "stdout",
     "output_type": "stream",
     "text": [
      "Normalized Pulsar dataset:\n",
      "\n",
      "8 row(s):\n",
      "\n",
      "|  Mean of the integrated profile  |  Standard deviation of the integrated profile  |\n",
      "|  ------------------------------  |  --------------------------------------------  |\n",
      "|  0.7213416419221279              |  0.4176874503039963                            |\n",
      "|  0.5176278700179834              |  0.46090840961643376                           |\n",
      "|  0.5203462841370081              |  0.1968683163412594                            |\n",
      "|  0.7009326251516038              |  0.43788377291585645                           |\n",
      "|  0.44385429300322027             |  0.2148474038178303                            |\n",
      "|  0.46978378152314837             |  0.2962707662536617                            |\n",
      "|  0.6085065451047635              |  0.32419987311148085                           |\n",
      "|  0.6668478942746017              |  0.20365695876593728                           |\n",
      "\n"
     ]
    }
   ],
   "source": [
    "# Normalize pulsar dataset\n",
    "pulsar_normalised = normalize(pulsar_dataset)\n",
    "\n",
    "print(\"Normalized Pulsar dataset:\\n\")\n",
    "pretty_print(\n",
    "    pulsar_normalised,\n",
    "    pulsar_columns,\n",
    "    nrows=8,\n",
    "    from_col=0,\n",
    "    to_col=2,\n",
    "    show_key=False\n",
    ")"
   ]
  },
  {
   "cell_type": "code",
   "execution_count": 118,
   "metadata": {},
   "outputs": [
    {
     "name": "stdout",
     "output_type": "stream",
     "text": [
      "Standardized Pulsar dataset:\n",
      "\n",
      "8 row(s):\n",
      "\n",
      "|  0                     |  1                     |  2                     |\n",
      "|  --------------------  |  --------------------  |  --------------------  |\n",
      "|  1.149317023663135     |  1.33483164310329      |  -0.6695695305719334   |\n",
      "|  -0.33416820364449706  |  1.8022653263971111    |  -0.01178476161846401  |\n",
      "|  -0.3143721577042392   |  -1.053322224186075    |  -0.14523255836861138  |\n",
      "|  1.0006944018347375    |  1.5532544087621598    |  -0.5134086153288508   |\n",
      "|  -0.871402435007803    |  -0.8588788056426795   |  0.11560870852257707   |\n",
      "|  -0.6825786121930356   |  0.021712990907197714  |  0.05079613195601586   |\n",
      "|  0.32762883986596986   |  0.32376564076359143   |  -0.4195421489815149   |\n",
      "|  0.7524824411991965    |  -0.9799032121231306   |  -0.5979079356102245   |\n",
      "\n",
      "Col 0: Mean of the integrated profile\n",
      "Col 1: Standard deviation of the integrated profile\n",
      "Col 2: Excess kurtosis of the integrated profile\n"
     ]
    }
   ],
   "source": [
    "# Standardize pulsar dataset\n",
    "pulsar_standardized = standardize(pulsar_dataset)\n",
    "\n",
    "print(\"Standardized Pulsar dataset:\\n\")\n",
    "pretty_print(\n",
    "    pulsar_standardized,\n",
    "    pulsar_columns,\n",
    "    nrows=8,\n",
    "    from_col=0,\n",
    "    to_col=3,\n",
    "    show_key=True\n",
    ")"
   ]
  },
  {
   "cell_type": "code",
   "execution_count": null,
   "metadata": {},
   "outputs": [],
   "source": []
  },
  {
   "cell_type": "code",
   "execution_count": null,
   "metadata": {},
   "outputs": [],
   "source": []
  },
  {
   "cell_type": "code",
   "execution_count": null,
   "metadata": {},
   "outputs": [],
   "source": []
  },
  {
   "cell_type": "code",
   "execution_count": null,
   "metadata": {},
   "outputs": [],
   "source": []
  }
 ],
 "metadata": {
  "kernelspec": {
   "display_name": "Python 3",
   "language": "python",
   "name": "python3"
  },
  "language_info": {
   "codemirror_mode": {
    "name": "ipython",
    "version": 3
   },
   "file_extension": ".py",
   "mimetype": "text/x-python",
   "name": "python",
   "nbconvert_exporter": "python",
   "pygments_lexer": "ipython3",
   "version": "3.7.4"
  }
 },
 "nbformat": 4,
 "nbformat_minor": 2
}
